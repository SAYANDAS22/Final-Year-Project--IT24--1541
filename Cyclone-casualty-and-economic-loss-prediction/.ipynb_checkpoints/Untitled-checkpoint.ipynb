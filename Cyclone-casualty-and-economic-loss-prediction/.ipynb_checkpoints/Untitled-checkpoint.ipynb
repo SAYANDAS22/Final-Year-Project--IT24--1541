{
 "cells": [
  {
   "cell_type": "code",
   "execution_count": 9,
   "id": "2edf985a-3ad9-4cbe-8001-6dd06673010b",
   "metadata": {},
   "outputs": [
    {
     "name": "stdout",
     "output_type": "stream",
     "text": [
      "        Date  WindSpeed (km/h)  Casualties  MonetaryLoss (USD)\n",
      "0 2022-01-01            134.90       77987         36496434.50\n",
      "1 2022-01-02            115.85       68492         47109626.59\n",
      "2 2022-01-03            139.43       51192         34151601.58\n",
      "3 2022-01-04            165.69       37061         43840769.41\n",
      "4 2022-01-05            112.98       63964         12127706.66\n"
     ]
    }
   ],
   "source": [
    "import numpy as np\n",
    "import pandas as pd\n",
    "\n",
    "# Set seed for reproducibility\n",
    "np.random.seed(42)\n",
    "\n",
    "# Number of data points\n",
    "num_data_points = 1000\n",
    "\n",
    "# Generate synthetic cyclone wind speed data\n",
    "mean_wind_speed = 120  # Mean wind speed in km/h\n",
    "std_deviation_wind = 30  # Standard deviation for wind speed\n",
    "\n",
    "# Generate synthetic casualties data\n",
    "mean_casualties_rate = 0.05  # Mean casualties rate (percentage of population affected)\n",
    "std_deviation_casualties = 0.02  # Standard deviation for casualties rate\n",
    "\n",
    "# Generate synthetic monetary loss data\n",
    "mean_monetary_loss = 50000000  # Mean monetary loss in USD\n",
    "std_deviation_loss = 20000000  # Standard deviation for monetary loss\n",
    "\n",
    "# Generate random wind speeds based on a normal distribution\n",
    "wind_speeds = np.random.normal(loc=mean_wind_speed, scale=std_deviation_wind, size=num_data_points)\n",
    "wind_speeds = np.abs(wind_speeds)\n",
    "\n",
    "# Generate random casualties rates based on a normal distribution\n",
    "casualties_rates = np.random.normal(loc=mean_casualties_rate, scale=std_deviation_casualties, size=num_data_points)\n",
    "casualties_rates = np.clip(casualties_rates, 0, 1)  # Clip values to ensure they are between 0 and 1\n",
    "\n",
    "# Calculate casualties using the casualties rate and a population size\n",
    "population_size = 1000000  # Example population size\n",
    "casualties = (casualties_rates * population_size).astype(int)\n",
    "\n",
    "# Generate random monetary losses based on a normal distribution\n",
    "monetary_losses = np.random.normal(loc=mean_monetary_loss, scale=std_deviation_loss, size=num_data_points)\n",
    "monetary_losses = np.abs(monetary_losses)\n",
    "\n",
    "# Create synthetic dataset\n",
    "data = pd.DataFrame({\n",
    "    'Date': pd.date_range(start='2022-01-01', periods=num_data_points, freq='D'),\n",
    "    'WindSpeed (km/h)': wind_speeds.round(2),\n",
    "    'Casualties': casualties,\n",
    "    'MonetaryLoss (USD)': monetary_losses.round(2)\n",
    "})\n",
    "pd.set_option('display.max_rows', 2000)  # Set the maximum number of rows to 20\n",
    "\n",
    "# Display the DataFrame\n",
    "\n",
    "# Display he synthetic dataset\n",
    "print(data.head())\n"
   ]
  },
  {
   "cell_type": "code",
   "execution_count": 9,
   "id": "bd36a87f-d173-40ee-84a7-2d03bfc11554",
   "metadata": {},
   "outputs": [
    {
     "name": "stdout",
     "output_type": "stream",
     "text": [
      "        Date  WindSpeed (km/h)  Casualties  MonetaryLoss (USD)\n",
      "0 2022-01-01            134.90       77987         36496434.50\n",
      "1 2022-01-02            115.85       68492         47109626.59\n",
      "2 2022-01-03            139.43       51192         34151601.58\n",
      "3 2022-01-04            165.69       37061         43840769.41\n",
      "4 2022-01-05            112.98       63964         12127706.66\n"
     ]
    }
   ],
   "source": [
    "import numpy as np\n",
    "import pandas as pd\n",
    "\n",
    "# Set seed for reproducibility\n",
    "np.random.seed(42)\n",
    "\n",
    "# Number of data points\n",
    "num_data_points = 1000\n",
    "\n",
    "# Generate synthetic cyclone wind speed data\n",
    "mean_wind_speed = 120  # Mean wind speed in km/h\n",
    "std_deviation_wind = 30  # Standard deviation for wind speed\n",
    "\n",
    "# Generate synthetic casualties data\n",
    "mean_casualties_rate = 0.05  # Mean casualties rate (percentage of population affected)\n",
    "std_deviation_casualties = 0.02  # Standard deviation for casualties rate\n",
    "\n",
    "# Generate synthetic monetary loss data\n",
    "mean_monetary_loss = 50000000  # Mean monetary loss in USD\n",
    "std_deviation_loss = 20000000  # Standard deviation for monetary loss\n",
    "\n",
    "# Generate random wind speeds based on a normal distribution\n",
    "wind_speeds = np.random.normal(loc=mean_wind_speed, scale=std_deviation_wind, size=num_data_points)\n",
    "wind_speeds = np.abs(wind_speeds)\n",
    "\n",
    "# Generate random casualties rates based on a normal distribution\n",
    "casualties_rates = np.random.normal(loc=mean_casualties_rate, scale=std_deviation_casualties, size=num_data_points)\n",
    "casualties_rates = np.clip(casualties_rates, 0, 1)  # Clip values to ensure they are between 0 and 1\n",
    "\n",
    "# Calculate casualties using the casualties rate and a population size\n",
    "population_size = 1000000  # Example population size\n",
    "casualties = (casualties_rates * population_size).astype(int)\n",
    "\n",
    "# Generate random monetary losses based on a normal distribution\n",
    "monetary_losses = np.random.normal(loc=mean_monetary_loss, scale=std_deviation_loss, size=num_data_points)\n",
    "monetary_losses = np.abs(monetary_losses)\n",
    "\n",
    "# Create synthetic dataset\n",
    "data = pd.DataFrame({\n",
    "    'Date': pd.date_range(start='2022-01-01', periods=num_data_points, freq='D'),\n",
    "    'WindSpeed (km/h)': wind_speeds.round(2),\n",
    "    'Casualties': casualties,\n",
    "    'MonetaryLoss (USD)': monetary_losses.round(2)\n",
    "})\n",
    "pd.set_option('display.max_rows', 2000)  # Set the maximum number of rows to 20\n",
    "\n",
    "# Display the DataFrame\n",
    "\n",
    "# Display he synthetic dataset\n",
    "print(data.head())\n"
   ]
  },
  {
   "cell_type": "code",
   "execution_count": 7,
   "id": "18e70c7e-1aba-487f-840d-8cc4879b8111",
   "metadata": {},
   "outputs": [
    {
     "name": "stdout",
     "output_type": "stream",
     "text": [
      "Requirement already satisfied: pandas in c:\\users\\user\\appdata\\local\\programs\\python\\python310\\lib\\site-packages (2.2.0)\n",
      "Requirement already satisfied: numpy<2,>=1.22.4 in c:\\users\\user\\appdata\\local\\programs\\python\\python310\\lib\\site-packages (from pandas) (1.26.3)\n",
      "Requirement already satisfied: python-dateutil>=2.8.2 in c:\\users\\user\\appdata\\local\\programs\\python\\python310\\lib\\site-packages (from pandas) (2.8.2)\n",
      "Requirement already satisfied: pytz>=2020.1 in c:\\users\\user\\appdata\\local\\programs\\python\\python310\\lib\\site-packages (from pandas) (2023.4)\n",
      "Requirement already satisfied: tzdata>=2022.7 in c:\\users\\user\\appdata\\local\\programs\\python\\python310\\lib\\site-packages (from pandas) (2023.4)\n",
      "Requirement already satisfied: six>=1.5 in c:\\users\\user\\appdata\\local\\programs\\python\\python310\\lib\\site-packages (from python-dateutil>=2.8.2->pandas) (1.16.0)\n",
      "Note: you may need to restart the kernel to use updated packages.\n"
     ]
    },
    {
     "name": "stderr",
     "output_type": "stream",
     "text": [
      "\n",
      "[notice] A new release of pip is available: 23.2.1 -> 23.3.2\n",
      "[notice] To update, run: C:\\Users\\User\\AppData\\Local\\Programs\\Python\\Python310\\python.exe -m pip install --upgrade pip\n"
     ]
    }
   ],
   "source": [
    "pip install pandas\n"
   ]
  },
  {
   "cell_type": "code",
   "execution_count": 11,
   "id": "e20f1ce7-677a-4e1b-a439-386f5847d77a",
   "metadata": {},
   "outputs": [
    {
     "name": "stdout",
     "output_type": "stream",
     "text": [
      "        Date  WindSpeed (km/h)  Casualties  MonetaryLoss (USD)\n",
      "0 2022-01-01            134.90       77987         36496434.50\n",
      "1 2022-01-02            115.85       68492         47109626.59\n",
      "2 2022-01-03            139.43       51192         34151601.58\n",
      "3 2022-01-04            165.69       37061         43840769.41\n",
      "4 2022-01-05            112.98       63964         12127706.66\n",
      "Dataset saved to synthetic_cyclone_data.csv\n"
     ]
    }
   ],
   "source": [
    "import numpy as np\n",
    "import pandas as pd\n",
    "\n",
    "# Set seed for reproducibility\n",
    "np.random.seed(42)\n",
    "\n",
    "# Number of data points\n",
    "num_data_points = 1000\n",
    "\n",
    "# Generate synthetic cyclone wind speed data\n",
    "mean_wind_speed = 120  # Mean wind speed in km/h\n",
    "std_deviation_wind = 30  # Standard deviation for wind speed\n",
    "\n",
    "# Generate synthetic casualties data\n",
    "mean_casualties_rate = 0.05  # Mean casualties rate (percentage of population affected)\n",
    "std_deviation_casualties = 0.02  # Standard deviation for casualties rate\n",
    "\n",
    "# Generate synthetic monetary loss data\n",
    "mean_monetary_loss = 50000000  # Mean monetary loss in USD\n",
    "std_deviation_loss = 20000000  # Standard deviation for monetary loss\n",
    "\n",
    "# Generate random wind speeds based on a normal distribution\n",
    "wind_speeds = np.random.normal(loc=mean_wind_speed, scale=std_deviation_wind, size=num_data_points)\n",
    "wind_speeds = np.abs(wind_speeds)\n",
    "\n",
    "# Generate random casualties rates based on a normal distribution\n",
    "casualties_rates = np.random.normal(loc=mean_casualties_rate, scale=std_deviation_casualties, size=num_data_points)\n",
    "casualties_rates = np.clip(casualties_rates, 0, 1)  # Clip values to ensure they are between 0 and 1\n",
    "\n",
    "# Calculate casualties using the casualties rate and a population size\n",
    "population_size = 1000000  # Example population size\n",
    "casualties = (casualties_rates * population_size).astype(int)\n",
    "\n",
    "# Generate random monetary losses based on a normal distribution\n",
    "monetary_losses = np.random.normal(loc=mean_monetary_loss, scale=std_deviation_loss, size=num_data_points)\n",
    "monetary_losses = np.abs(monetary_losses)\n",
    "\n",
    "# Create synthetic dataset\n",
    "data = pd.DataFrame({\n",
    "    'Date': pd.date_range(start='2022-01-01', periods=num_data_points, freq='D'),\n",
    "    'WindSpeed (km/h)': wind_speeds.round(2),\n",
    "    'Casualties': casualties,\n",
    "    'MonetaryLoss (USD)': monetary_losses.round(2)\n",
    "})\n",
    "pd.set_option('display.max_rows', 2000)  # Set the maximum number of rows to 20\n",
    "\n",
    "# Display the DataFrame\n",
    "\n",
    "# Display he synthetic dataset\n",
    "print(data.head())\n",
    "\n",
    "data.to_csv('synthetic_cyclone_data.csv', index=False)\n",
    "\n",
    "# Display a message indicating the file has been saved\n",
    "print(\"Dataset saved to synthetic_cyclone_data.csv\")"
   ]
  },
  {
   "cell_type": "code",
   "execution_count": 2,
   "id": "4d7ee6fe-508d-4092-a3fc-bedde151a038",
   "metadata": {},
   "outputs": [],
   "source": [
    "import csv\n",
    "import random \n",
    "\n",
    "num_rows = 2000\n",
    "\n",
    "header = ['STATE','latitude','longitude','Number of Inhabited villages','Number of Uninhabited villages','Number of towns','Number of households','Total Population','Males Population','Females Population','Area (In sq. km)','Population per sq. km.','WIND SPEED','YEAR','STORM NAME','monetory loss','CASUALITIES']\n",
    "\n",
    "rows = []\n",
    "for i in range(num_rows):\n",
    "    state = i\n",
    "    lat = random.random()  \n",
    "    lon = random.random()\n",
    "    inhabited = random.random()\n",
    "    uninhabited = random.random() \n",
    "    towns = random.random()\n",
    "    households = random.random()\n",
    "    total_pop = random.random()\n",
    "    male_pop = random.random()\n",
    "    female_pop = random.random()\n",
    "    area = random.random() \n",
    "    pop_density = random.random()\n",
    "    wind_speed = random.randint(60, 260)\n",
    "    year = random.randint(1990, 2023)\n",
    "    storm_name = random.random()\n",
    "    monetary_loss = random.random()  \n",
    "    casualties = random.random()\n",
    "    \n",
    "    row = [state, lat, lon, inhabited, uninhabited, towns, households, total_pop, male_pop, female_pop, area, pop_density, wind_speed, year, storm_name, monetary_loss, casualties]\n",
    "    rows.append(row)\n",
    "    \n",
    "with open('demo_data_final.csv', 'w', newline='') as f:\n",
    "    writer = csv.writer(f)\n",
    "    writer.writerow(header) \n",
    "    writer.writerows(rows)"
   ]
  },
  {
   "cell_type": "code",
   "execution_count": 3,
   "id": "33c7d3f4-5772-457c-be9e-dd2f6cdfdb16",
   "metadata": {},
   "outputs": [
    {
     "name": "stdout",
     "output_type": "stream",
     "text": [
      "Demo dataset generated and saved as demo_data.csv\n"
     ]
    }
   ],
   "source": [
    "import csv\n",
    "import random\n",
    "\n",
    "header = ['STATE','latitude','longitude','Number of Inhabited villages','Number of Uninhabited villages','Number of towns','Number of households','Total Population','Males Population','Females Population','Area (In sq. km)','Population per sq. km.','WIND SPEED','YEAR','STORM NAME','monetory loss','CASUALITIES']\n",
    "\n",
    "rows = []\n",
    "for i in range(20000):\n",
    "    state = random.randint(1, 20)\n",
    "    latitude = random.uniform(0, 1)\n",
    "    longitude = random.uniform(0, 1)\n",
    "    inhabited_villages = random.randint(1, 100)\n",
    "    uninhabited_villages = random.randint(1, 100)\n",
    "    towns = random.randint(1, 100)\n",
    "    households = random.randint(1000, 10000)\n",
    "    total_pop = random.randint(1000, 10000)\n",
    "    male_pop = random.randint(500, 5000) \n",
    "    female_pop = random.randint(500, 5000)\n",
    "    area = random.randint(100, 1000)\n",
    "    pop_density = random.uniform(0.1, 1.0)\n",
    "    wind_speed = random.randint(60, 260) \n",
    "    year = random.randint(1990, 2023)\n",
    "    storm_name = random.random()  \n",
    "    monetary_loss = random.uniform(0, 1)\n",
    "    casualties = random.randint(0, 1000)\n",
    "    \n",
    "    row = [state, latitude, longitude, inhabited_villages, uninhabited_villages, towns, households, total_pop, male_pop, female_pop, area, pop_density, wind_speed, year, storm_name, monetary_loss, casualties]\n",
    "    rows.append(row)\n",
    "    \n",
    "with open('demo_data12.csv', 'w', newline='') as f:\n",
    "    writer = csv.writer(f)\n",
    "    writer.writerow(header)\n",
    "    writer.writerows(rows)\n",
    "    \n",
    "print('Demo dataset generated and saved as demo_data.csv')"
   ]
  },
  {
   "cell_type": "code",
   "execution_count": 1,
   "id": "6183c773-d6e1-440c-bbab-9ee148d7a0cb",
   "metadata": {},
   "outputs": [
    {
     "name": "stdout",
     "output_type": "stream",
     "text": [
      "\f",
      "\n"
     ]
    }
   ],
   "source": [
    "clear\n"
   ]
  },
  {
   "cell_type": "code",
   "execution_count": 4,
   "id": "bff867c9-5eac-45cc-825e-d2e59cbd4ab6",
   "metadata": {},
   "outputs": [],
   "source": [
    "import pandas as pd\n",
    "import numpy as np\n",
    "\n",
    "# Define the number of samples and features\n",
    "n_samples = 1000\n",
    "n_features = 5\n",
    "\n",
    "# Generate random feature data\n",
    "feature_data = np.random.rand(n_samples, n_features)\n",
    "\n",
    "# Generate random target variable (property_loss) based on a linear combination of features\n",
    "coefficients = np.random.rand(n_features)\n",
    "property_loss = np.dot(feature_data, coefficients) + np.random.normal(0, 0.1, n_samples)\n",
    "\n",
    "# Create a DataFrame with feature data and target variable\n",
    "data = pd.DataFrame(feature_data, columns=[f'feature_{i}' for i in range(n_features)])\n",
    "data['property_loss'] = property_loss\n",
    "\n",
    "# Save the data to a single CSV file\n",
    "data.to_csv('property_data.csv', index=False)"
   ]
  },
  {
   "cell_type": "code",
   "execution_count": 3,
   "id": "3e1a4c76-8fe1-44f5-9a8c-a257ead71f02",
   "metadata": {},
   "outputs": [
    {
     "name": "stdout",
     "output_type": "stream",
     "text": [
      "Requirement already satisfied: pandas in c:\\users\\user\\appdata\\local\\programs\\python\\python310\\lib\\site-packages (2.2.0)\n",
      "Requirement already satisfied: numpy<2,>=1.22.4 in c:\\users\\user\\appdata\\local\\programs\\python\\python310\\lib\\site-packages (from pandas) (1.26.3)\n",
      "Requirement already satisfied: python-dateutil>=2.8.2 in c:\\users\\user\\appdata\\local\\programs\\python\\python310\\lib\\site-packages (from pandas) (2.8.2)\n",
      "Requirement already satisfied: pytz>=2020.1 in c:\\users\\user\\appdata\\local\\programs\\python\\python310\\lib\\site-packages (from pandas) (2023.4)\n",
      "Requirement already satisfied: tzdata>=2022.7 in c:\\users\\user\\appdata\\local\\programs\\python\\python310\\lib\\site-packages (from pandas) (2023.4)\n",
      "Requirement already satisfied: six>=1.5 in c:\\users\\user\\appdata\\local\\programs\\python\\python310\\lib\\site-packages (from python-dateutil>=2.8.2->pandas) (1.16.0)\n",
      "Note: you may need to restart the kernel to use updated packages.\n"
     ]
    },
    {
     "name": "stderr",
     "output_type": "stream",
     "text": [
      "\n",
      "[notice] A new release of pip is available: 23.2.1 -> 24.0\n",
      "[notice] To update, run: C:\\Users\\User\\AppData\\Local\\Programs\\Python\\Python310\\python.exe -m pip install --upgrade pip\n"
     ]
    }
   ],
   "source": [
    "pip install pandas\n"
   ]
  },
  {
   "cell_type": "code",
   "execution_count": 13,
   "id": "13e5ea90-bb6d-4b27-8f79-2b187adbdcb8",
   "metadata": {},
   "outputs": [],
   "source": [
    "import pandas as pd\n",
    "import numpy as np\n",
    "\n",
    "# Define the number of samples and features\n",
    "n_samples = 1000\n",
    "n_features = 5\n",
    "\n",
    "# Generate random feature data\n",
    "feature_data = np.random.rand(n_samples, n_features)\n",
    "\n",
    "# Generate random target variable (property_loss) based on a linear combination of features\n",
    "coefficients = np.random.rand(n_features)\n",
    "property_loss = np.dot(feature_data, coefficients) + np.random.normal(0, 0.1, n_samples)\n",
    "\n",
    "# Create a DataFrame with feature data and target variable\n",
    "data = pd.DataFrame(feature_data, columns=[f'feature_{i}' for i in range(n_features)])\n",
    "data['property_loss'] = property_loss\n",
    "\n",
    "# Save the data to a CSV file\n",
    "data.to_csv('property_data.csv', index=False)\n",
    "\n",
    "# Create a new DataFrame with only the feature data for new predictions\n",
    "new_data = data.drop('property_loss', axis=1)\n",
    "\n",
    "# Save the new data to a CSV file\n",
    "new_data.to_csv('new_property_data.csv', index=False)"
   ]
  },
  {
   "cell_type": "code",
   "execution_count": 14,
   "id": "1105bff5-4738-4b16-8906-8876ca5503b0",
   "metadata": {},
   "outputs": [],
   "source": [
    "import pandas as pd\n",
    "import numpy as np\n",
    "\n",
    "# Define the number of samples and features\n",
    "n_samples = 1000\n",
    "n_features = 5\n",
    "\n",
    "# Generate random feature data\n",
    "feature_data = np.random.rand(n_samples, n_features)\n",
    "\n",
    "# Generate random target variable (property_loss) based on a linear combination of features\n",
    "coefficients = np.random.rand(n_features)\n",
    "property_loss = np.dot(feature_data, coefficients) + np.random.normal(0, 0.1, n_samples)\n",
    "\n",
    "# Create a DataFrame with feature data and target variable\n",
    "data = pd.DataFrame(feature_data, columns=[f'feature_{i}' for i in range(n_features)])\n",
    "data['property_loss'] = property_loss\n",
    "\n",
    "# Save the data to a CSV file\n",
    "data.to_csv('property_data.csv', index=False)\n",
    "\n",
    "# Create a new DataFrame with only the feature data for new predictions\n",
    "new_data = data.drop('property_loss', axis=1)\n",
    "\n",
    "# Save the new data to a CSV file\n",
    "new_data.to_csv('new_property_data.csv', index=False)"
   ]
  },
  {
   "cell_type": "code",
   "execution_count": null,
   "id": "e49e6f97-e5a8-4c39-bd9e-ba515bba6ee6",
   "metadata": {},
   "outputs": [],
   "source": []
  }
 ],
 "metadata": {
  "kernelspec": {
   "display_name": "Python 3 (ipykernel)",
   "language": "python",
   "name": "python3"
  },
  "language_info": {
   "codemirror_mode": {
    "name": "ipython",
    "version": 3
   },
   "file_extension": ".py",
   "mimetype": "text/x-python",
   "name": "python",
   "nbconvert_exporter": "python",
   "pygments_lexer": "ipython3",
   "version": "3.10.5"
  }
 },
 "nbformat": 4,
 "nbformat_minor": 5
}
